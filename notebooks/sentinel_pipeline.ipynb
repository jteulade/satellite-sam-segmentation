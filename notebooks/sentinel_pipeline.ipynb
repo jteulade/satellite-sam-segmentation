{
 "cells": [
  {
   "cell_type": "markdown",
   "metadata": {},
   "source": [
    "# Satellite Image Segmentation Pipeline\n",
    "\n",
    "This notebook runs the complete pipeline for segmenting Sentinel-2 satellite imagery using SAM."
   ]
  },
  {
   "cell_type": "code",
   "execution_count": 4,
   "metadata": {},
   "outputs": [],
   "source": [
    "import os\n",
    "import sys\n",
    "sys.path.append(\"..\")\n",
    "from src.sentinel_preprocessing import preprocess_imagery\n",
    "from src.sam_satellite_processor import segment_satellite_imagery\n",
    "from src.polygon_merger import merge_overlapping_segments, concat_polygons"
   ]
  },
  {
   "cell_type": "code",
   "execution_count": 8,
   "metadata": {},
   "outputs": [],
   "source": [
    "# Define base directory and tile IDs\n",
    "base_dir = \"/home/teulade/images/images_sentinel\"\n",
    "tile_ids = [\"32ULU\"]\n",
    "# Construct full paths to tiles\n",
    "tile_paths = [os.path.join(base_dir, tile_id) for tile_id in tile_ids]\n",
    "# Define quarters to analyze\n",
    "quarters_to_analyze = [4]  # Modify this list to choose specific quarters"
   ]
  },
  {
   "cell_type": "code",
   "execution_count": 4,
   "metadata": {},
   "outputs": [],
   "source": [
    "# Define base directory and tile IDs\n",
    "base_dir = \"/home/teulade/images/Sentinel-2_mosaic_2022\"\n",
    "tile_ids = [\"30UVU\", \"30TXT\", \"30TYR\", \"31TCJ\", \"31TFJ\", \"31TGL\", \"31TDM\", \"31UGP\", \"31UDP\", \"31UDR\"]\n",
    "# Construct full paths to tiles\n",
    "tile_paths = [os.path.join(base_dir, tile_id) for tile_id in tile_ids]\n",
    "\n",
    "# Define quarters to analyze\n",
    "quarters_to_analyze = [1, 2, 3, 4]  # Modify this list to choose specific quarters\n",
    "\n"
   ]
  },
  {
   "cell_type": "markdown",
   "metadata": {},
   "source": [
    "## Step 1: Preprocess Sentinel-2 Images"
   ]
  },
  {
   "cell_type": "code",
   "execution_count": null,
   "metadata": {},
   "outputs": [],
   "source": [
    "sentinel_bands_paths = [os.path.join(base_dir, tile_id, f\"Sentinel-2_mosaic_2022_Q{quarter}_{tile_id}_0_0/\") for quarter in quarters_to_analyze for tile_id in tile_ids]\n",
    "\n",
    "# Preprocess tiles\n",
    "for sentinel_bands_path in sentinel_bands_paths:\n",
    "    preprocess_imagery(sentinel_bands_path)"
   ]
  },
  {
   "cell_type": "markdown",
   "metadata": {},
   "source": [
    "## Step 2: Run SAM Segmentation"
   ]
  },
  {
   "cell_type": "code",
   "execution_count": 10,
   "metadata": {},
   "outputs": [
    {
     "name": "stderr",
     "output_type": "stream",
     "text": [
      "/home/teulade/.conda/envs/sat-proj-env/lib/python3.11/site-packages/segment_anything/build_sam.py:105: FutureWarning: You are using `torch.load` with `weights_only=False` (the current default value), which uses the default pickle module implicitly. It is possible to construct malicious pickle data which will execute arbitrary code during unpickling (See https://github.com/pytorch/pytorch/blob/main/SECURITY.md#untrusted-models for more details). In a future release, the default value for `weights_only` will be flipped to `True`. This limits the functions that could be executed during unpickling. Arbitrary objects will no longer be allowed to be loaded via this mode unless they are explicitly allowlisted by the user via `torch.serialization.add_safe_globals`. We recommend you start setting `weights_only=True` for any use case where you don't have full control of the loaded file. Please open an issue on GitHub for any issues related to this experimental feature.\n",
      "  state_dict = torch.load(f)\n"
     ]
    }
   ],
   "source": [
    "from segment_anything import sam_model_registry, SamAutomaticMaskGenerator\n",
    "\n",
    "sam_checkpoint = \"/home/teulade/satellite-sam-segmentation/models/sam_vit_h_4b8939.pth\"\n",
    "model_type = \"vit_h\"\n",
    "\n",
    "device = \"cuda\"\n",
    "\n",
    "sam = sam_model_registry[model_type](checkpoint=sam_checkpoint)\n",
    "sam.to(device=device)\n",
    "\n",
    "mask_generator = SamAutomaticMaskGenerator(\n",
    "    model=sam,\n",
    "    points_per_side=10,\n",
    "    pred_iou_thresh=0.6,\n",
    "    stability_score_thresh=0.6,\n",
    "    crop_nms_thresh=0,\n",
    "    crop_overlap_ratio=1,\n",
    "    crop_n_layers=1,\n",
    "    min_mask_region_area=50,\n",
    ")"
   ]
  },
  {
   "cell_type": "code",
   "execution_count": null,
   "metadata": {},
   "outputs": [],
   "source": [
    "# Process tiles\n",
    "sentinel_bands_paths = [os.path.join(base_dir, tile_id, f\"Sentinel-2_mosaic_2022_Q{quarter}_{tile_id}_0_0/\") for quarter in quarters_to_analyze for tile_id in tile_ids]\n",
    "\n",
    "for sentinel_path in sentinel_bands_paths:\n",
    "    segment_satellite_imagery(sentinel_path, mask_generator, n_samples=20, random_seed=42)"
   ]
  },
  {
   "cell_type": "markdown",
   "metadata": {},
   "source": [
    "## Step 3: Merge Quarterly Polygons"
   ]
  },
  {
   "cell_type": "code",
   "execution_count": null,
   "metadata": {},
   "outputs": [],
   "source": [
    "# Merge tiles\n",
    "for tile_path in tile_paths:\n",
    "    merge_overlapping_segments(tile_path, quarters_to_analyze, 2022)"
   ]
  },
  {
   "cell_type": "code",
   "execution_count": null,
   "metadata": {},
   "outputs": [],
   "source": [
    "concat_polygons(tile_paths, os.path.basename(base_dir))"
   ]
  },
  {
   "cell_type": "markdown",
   "metadata": {},
   "source": [
    "## Results Visualization\n",
    "\n",
    "You can add cells here to visualize the results, e.g.:\n",
    "- Number of polygons per tile\n",
    "- Sample visualizations of segmented areas\n",
    "- Processing statistics"
   ]
  }
 ],
 "metadata": {
  "kernelspec": {
   "display_name": "Python 3",
   "language": "python",
   "name": "python3"
  },
  "language_info": {
   "codemirror_mode": {
    "name": "ipython",
    "version": 3
   },
   "file_extension": ".py",
   "mimetype": "text/x-python",
   "name": "python",
   "nbconvert_exporter": "python",
   "pygments_lexer": "ipython3",
   "version": "3.11.8"
  }
 },
 "nbformat": 4,
 "nbformat_minor": 2
}
