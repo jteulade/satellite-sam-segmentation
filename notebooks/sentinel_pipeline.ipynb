{
 "cells": [
  {
   "cell_type": "markdown",
   "metadata": {},
   "source": [
    "# Satellite Image Segmentation Pipeline\n",
    "\n",
    "This notebook runs the complete pipeline for segmenting Sentinel-2 satellite imagery using SAM."
   ]
  },
  {
   "cell_type": "code",
   "execution_count": 1,
   "metadata": {},
   "outputs": [],
   "source": [
    "import os\n",
    "import sys\n",
    "sys.path.append(\"..\")\n",
    "from src.sentinel_preprocessing import preprocess_sentinel_imagery\n",
    "from src.sam_satellite_processor import segment_satellite_imagery\n",
    "from src.polygon_merger import merge_overlapping_segments, concat_polygons"
   ]
  },
  {
   "cell_type": "code",
   "execution_count": 2,
   "metadata": {},
   "outputs": [],
   "source": [
    "# Define base directory and tile IDs\n",
    "base_dir = \"/home/teulade/images/images_sentinel\"\n",
    "tile_ids = [\"32ULU\"]\n",
    "# Construct full paths to tiles\n",
    "tile_paths = [os.path.join(base_dir, tile_id) for tile_id in tile_ids]\n",
    "# Define quarters to analyze\n",
    "quarters_to_analyze = [4]  # Modify this list to choose specific quarters"
   ]
  },
  {
   "cell_type": "code",
   "execution_count": 4,
   "metadata": {},
   "outputs": [],
   "source": [
    "# Define base directory and tile IDs\n",
    "base_dir = \"/home/teulade/images/Sentinel-2_mosaic_2022\"\n",
    "tile_ids = [\"30UVU\", \"30TXT\", \"30TYR\", \"31TCJ\", \"31TFJ\", \"31TGL\", \"31TDM\", \"31UGP\", \"31UDP\", \"31UDR\"]\n",
    "# Construct full paths to tiles\n",
    "tile_paths = [os.path.join(base_dir, tile_id) for tile_id in tile_ids]\n",
    "\n",
    "# Define quarters to analyze\n",
    "quarters_to_analyze = [1, 2, 3, 4]  # Modify this list to choose specific quarters\n",
    "\n"
   ]
  },
  {
   "cell_type": "markdown",
   "metadata": {},
   "source": [
    "## Step 1: Preprocess Sentinel-2 Images"
   ]
  },
  {
   "cell_type": "code",
   "execution_count": 3,
   "metadata": {},
   "outputs": [
    {
     "name": "stdout",
     "output_type": "stream",
     "text": [
      "Processing /home/teulade/images/images_sentinel/32ULU/Sentinel-2_mosaic_2022_Q4_32ULU_0_0/\n",
      "Image RGB créée et enregistrée sous /home/teulade/images/images_sentinel/32ULU/Sentinel-2_mosaic_2022_Q4_32ULU_0_0/output_nrg.tif\n",
      "Découpage terminé. Les sous-images sont enregistrées sous les noms suivants :\n",
      "['/home/teulade/images/images_sentinel/32ULU/Sentinel-2_mosaic_2022_Q4_32ULU_0_0/split_images_100/output_nrg_q1_1.tif', '/home/teulade/images/images_sentinel/32ULU/Sentinel-2_mosaic_2022_Q4_32ULU_0_0/split_images_100/output_nrg_q1_2.tif', '/home/teulade/images/images_sentinel/32ULU/Sentinel-2_mosaic_2022_Q4_32ULU_0_0/split_images_100/output_nrg_q1_3.tif', '/home/teulade/images/images_sentinel/32ULU/Sentinel-2_mosaic_2022_Q4_32ULU_0_0/split_images_100/output_nrg_q1_4.tif', '/home/teulade/images/images_sentinel/32ULU/Sentinel-2_mosaic_2022_Q4_32ULU_0_0/split_images_100/output_nrg_q1_5.tif', '/home/teulade/images/images_sentinel/32ULU/Sentinel-2_mosaic_2022_Q4_32ULU_0_0/split_images_100/output_nrg_q1_6.tif', '/home/teulade/images/images_sentinel/32ULU/Sentinel-2_mosaic_2022_Q4_32ULU_0_0/split_images_100/output_nrg_q1_7.tif', '/home/teulade/images/images_sentinel/32ULU/Sentinel-2_mosaic_2022_Q4_32ULU_0_0/split_images_100/output_nrg_q1_8.tif', '/home/teulade/images/images_sentinel/32ULU/Sentinel-2_mosaic_2022_Q4_32ULU_0_0/split_images_100/output_nrg_q1_9.tif', '/home/teulade/images/images_sentinel/32ULU/Sentinel-2_mosaic_2022_Q4_32ULU_0_0/split_images_100/output_nrg_q1_10.tif', '/home/teulade/images/images_sentinel/32ULU/Sentinel-2_mosaic_2022_Q4_32ULU_0_0/split_images_100/output_nrg_q2_1.tif', '/home/teulade/images/images_sentinel/32ULU/Sentinel-2_mosaic_2022_Q4_32ULU_0_0/split_images_100/output_nrg_q2_2.tif', '/home/teulade/images/images_sentinel/32ULU/Sentinel-2_mosaic_2022_Q4_32ULU_0_0/split_images_100/output_nrg_q2_3.tif', '/home/teulade/images/images_sentinel/32ULU/Sentinel-2_mosaic_2022_Q4_32ULU_0_0/split_images_100/output_nrg_q2_4.tif', '/home/teulade/images/images_sentinel/32ULU/Sentinel-2_mosaic_2022_Q4_32ULU_0_0/split_images_100/output_nrg_q2_5.tif', '/home/teulade/images/images_sentinel/32ULU/Sentinel-2_mosaic_2022_Q4_32ULU_0_0/split_images_100/output_nrg_q2_6.tif', '/home/teulade/images/images_sentinel/32ULU/Sentinel-2_mosaic_2022_Q4_32ULU_0_0/split_images_100/output_nrg_q2_7.tif', '/home/teulade/images/images_sentinel/32ULU/Sentinel-2_mosaic_2022_Q4_32ULU_0_0/split_images_100/output_nrg_q2_8.tif', '/home/teulade/images/images_sentinel/32ULU/Sentinel-2_mosaic_2022_Q4_32ULU_0_0/split_images_100/output_nrg_q2_9.tif', '/home/teulade/images/images_sentinel/32ULU/Sentinel-2_mosaic_2022_Q4_32ULU_0_0/split_images_100/output_nrg_q2_10.tif', '/home/teulade/images/images_sentinel/32ULU/Sentinel-2_mosaic_2022_Q4_32ULU_0_0/split_images_100/output_nrg_q3_1.tif', '/home/teulade/images/images_sentinel/32ULU/Sentinel-2_mosaic_2022_Q4_32ULU_0_0/split_images_100/output_nrg_q3_2.tif', '/home/teulade/images/images_sentinel/32ULU/Sentinel-2_mosaic_2022_Q4_32ULU_0_0/split_images_100/output_nrg_q3_3.tif', '/home/teulade/images/images_sentinel/32ULU/Sentinel-2_mosaic_2022_Q4_32ULU_0_0/split_images_100/output_nrg_q3_4.tif', '/home/teulade/images/images_sentinel/32ULU/Sentinel-2_mosaic_2022_Q4_32ULU_0_0/split_images_100/output_nrg_q3_5.tif', '/home/teulade/images/images_sentinel/32ULU/Sentinel-2_mosaic_2022_Q4_32ULU_0_0/split_images_100/output_nrg_q3_6.tif', '/home/teulade/images/images_sentinel/32ULU/Sentinel-2_mosaic_2022_Q4_32ULU_0_0/split_images_100/output_nrg_q3_7.tif', '/home/teulade/images/images_sentinel/32ULU/Sentinel-2_mosaic_2022_Q4_32ULU_0_0/split_images_100/output_nrg_q3_8.tif', '/home/teulade/images/images_sentinel/32ULU/Sentinel-2_mosaic_2022_Q4_32ULU_0_0/split_images_100/output_nrg_q3_9.tif', '/home/teulade/images/images_sentinel/32ULU/Sentinel-2_mosaic_2022_Q4_32ULU_0_0/split_images_100/output_nrg_q3_10.tif', '/home/teulade/images/images_sentinel/32ULU/Sentinel-2_mosaic_2022_Q4_32ULU_0_0/split_images_100/output_nrg_q4_1.tif', '/home/teulade/images/images_sentinel/32ULU/Sentinel-2_mosaic_2022_Q4_32ULU_0_0/split_images_100/output_nrg_q4_2.tif', '/home/teulade/images/images_sentinel/32ULU/Sentinel-2_mosaic_2022_Q4_32ULU_0_0/split_images_100/output_nrg_q4_3.tif', '/home/teulade/images/images_sentinel/32ULU/Sentinel-2_mosaic_2022_Q4_32ULU_0_0/split_images_100/output_nrg_q4_4.tif', '/home/teulade/images/images_sentinel/32ULU/Sentinel-2_mosaic_2022_Q4_32ULU_0_0/split_images_100/output_nrg_q4_5.tif', '/home/teulade/images/images_sentinel/32ULU/Sentinel-2_mosaic_2022_Q4_32ULU_0_0/split_images_100/output_nrg_q4_6.tif', '/home/teulade/images/images_sentinel/32ULU/Sentinel-2_mosaic_2022_Q4_32ULU_0_0/split_images_100/output_nrg_q4_7.tif', '/home/teulade/images/images_sentinel/32ULU/Sentinel-2_mosaic_2022_Q4_32ULU_0_0/split_images_100/output_nrg_q4_8.tif', '/home/teulade/images/images_sentinel/32ULU/Sentinel-2_mosaic_2022_Q4_32ULU_0_0/split_images_100/output_nrg_q4_9.tif', '/home/teulade/images/images_sentinel/32ULU/Sentinel-2_mosaic_2022_Q4_32ULU_0_0/split_images_100/output_nrg_q4_10.tif', '/home/teulade/images/images_sentinel/32ULU/Sentinel-2_mosaic_2022_Q4_32ULU_0_0/split_images_100/output_nrg_q5_1.tif', '/home/teulade/images/images_sentinel/32ULU/Sentinel-2_mosaic_2022_Q4_32ULU_0_0/split_images_100/output_nrg_q5_2.tif', '/home/teulade/images/images_sentinel/32ULU/Sentinel-2_mosaic_2022_Q4_32ULU_0_0/split_images_100/output_nrg_q5_3.tif', '/home/teulade/images/images_sentinel/32ULU/Sentinel-2_mosaic_2022_Q4_32ULU_0_0/split_images_100/output_nrg_q5_4.tif', '/home/teulade/images/images_sentinel/32ULU/Sentinel-2_mosaic_2022_Q4_32ULU_0_0/split_images_100/output_nrg_q5_5.tif', '/home/teulade/images/images_sentinel/32ULU/Sentinel-2_mosaic_2022_Q4_32ULU_0_0/split_images_100/output_nrg_q5_6.tif', '/home/teulade/images/images_sentinel/32ULU/Sentinel-2_mosaic_2022_Q4_32ULU_0_0/split_images_100/output_nrg_q5_7.tif', '/home/teulade/images/images_sentinel/32ULU/Sentinel-2_mosaic_2022_Q4_32ULU_0_0/split_images_100/output_nrg_q5_8.tif', '/home/teulade/images/images_sentinel/32ULU/Sentinel-2_mosaic_2022_Q4_32ULU_0_0/split_images_100/output_nrg_q5_9.tif', '/home/teulade/images/images_sentinel/32ULU/Sentinel-2_mosaic_2022_Q4_32ULU_0_0/split_images_100/output_nrg_q5_10.tif', '/home/teulade/images/images_sentinel/32ULU/Sentinel-2_mosaic_2022_Q4_32ULU_0_0/split_images_100/output_nrg_q6_1.tif', '/home/teulade/images/images_sentinel/32ULU/Sentinel-2_mosaic_2022_Q4_32ULU_0_0/split_images_100/output_nrg_q6_2.tif', '/home/teulade/images/images_sentinel/32ULU/Sentinel-2_mosaic_2022_Q4_32ULU_0_0/split_images_100/output_nrg_q6_3.tif', '/home/teulade/images/images_sentinel/32ULU/Sentinel-2_mosaic_2022_Q4_32ULU_0_0/split_images_100/output_nrg_q6_4.tif', '/home/teulade/images/images_sentinel/32ULU/Sentinel-2_mosaic_2022_Q4_32ULU_0_0/split_images_100/output_nrg_q6_5.tif', '/home/teulade/images/images_sentinel/32ULU/Sentinel-2_mosaic_2022_Q4_32ULU_0_0/split_images_100/output_nrg_q6_6.tif', '/home/teulade/images/images_sentinel/32ULU/Sentinel-2_mosaic_2022_Q4_32ULU_0_0/split_images_100/output_nrg_q6_7.tif', '/home/teulade/images/images_sentinel/32ULU/Sentinel-2_mosaic_2022_Q4_32ULU_0_0/split_images_100/output_nrg_q6_8.tif', '/home/teulade/images/images_sentinel/32ULU/Sentinel-2_mosaic_2022_Q4_32ULU_0_0/split_images_100/output_nrg_q6_9.tif', '/home/teulade/images/images_sentinel/32ULU/Sentinel-2_mosaic_2022_Q4_32ULU_0_0/split_images_100/output_nrg_q6_10.tif', '/home/teulade/images/images_sentinel/32ULU/Sentinel-2_mosaic_2022_Q4_32ULU_0_0/split_images_100/output_nrg_q7_1.tif', '/home/teulade/images/images_sentinel/32ULU/Sentinel-2_mosaic_2022_Q4_32ULU_0_0/split_images_100/output_nrg_q7_2.tif', '/home/teulade/images/images_sentinel/32ULU/Sentinel-2_mosaic_2022_Q4_32ULU_0_0/split_images_100/output_nrg_q7_3.tif', '/home/teulade/images/images_sentinel/32ULU/Sentinel-2_mosaic_2022_Q4_32ULU_0_0/split_images_100/output_nrg_q7_4.tif', '/home/teulade/images/images_sentinel/32ULU/Sentinel-2_mosaic_2022_Q4_32ULU_0_0/split_images_100/output_nrg_q7_5.tif', '/home/teulade/images/images_sentinel/32ULU/Sentinel-2_mosaic_2022_Q4_32ULU_0_0/split_images_100/output_nrg_q7_6.tif', '/home/teulade/images/images_sentinel/32ULU/Sentinel-2_mosaic_2022_Q4_32ULU_0_0/split_images_100/output_nrg_q7_7.tif', '/home/teulade/images/images_sentinel/32ULU/Sentinel-2_mosaic_2022_Q4_32ULU_0_0/split_images_100/output_nrg_q7_8.tif', '/home/teulade/images/images_sentinel/32ULU/Sentinel-2_mosaic_2022_Q4_32ULU_0_0/split_images_100/output_nrg_q7_9.tif', '/home/teulade/images/images_sentinel/32ULU/Sentinel-2_mosaic_2022_Q4_32ULU_0_0/split_images_100/output_nrg_q7_10.tif', '/home/teulade/images/images_sentinel/32ULU/Sentinel-2_mosaic_2022_Q4_32ULU_0_0/split_images_100/output_nrg_q8_1.tif', '/home/teulade/images/images_sentinel/32ULU/Sentinel-2_mosaic_2022_Q4_32ULU_0_0/split_images_100/output_nrg_q8_2.tif', '/home/teulade/images/images_sentinel/32ULU/Sentinel-2_mosaic_2022_Q4_32ULU_0_0/split_images_100/output_nrg_q8_3.tif', '/home/teulade/images/images_sentinel/32ULU/Sentinel-2_mosaic_2022_Q4_32ULU_0_0/split_images_100/output_nrg_q8_4.tif', '/home/teulade/images/images_sentinel/32ULU/Sentinel-2_mosaic_2022_Q4_32ULU_0_0/split_images_100/output_nrg_q8_5.tif', '/home/teulade/images/images_sentinel/32ULU/Sentinel-2_mosaic_2022_Q4_32ULU_0_0/split_images_100/output_nrg_q8_6.tif', '/home/teulade/images/images_sentinel/32ULU/Sentinel-2_mosaic_2022_Q4_32ULU_0_0/split_images_100/output_nrg_q8_7.tif', '/home/teulade/images/images_sentinel/32ULU/Sentinel-2_mosaic_2022_Q4_32ULU_0_0/split_images_100/output_nrg_q8_8.tif', '/home/teulade/images/images_sentinel/32ULU/Sentinel-2_mosaic_2022_Q4_32ULU_0_0/split_images_100/output_nrg_q8_9.tif', '/home/teulade/images/images_sentinel/32ULU/Sentinel-2_mosaic_2022_Q4_32ULU_0_0/split_images_100/output_nrg_q8_10.tif', '/home/teulade/images/images_sentinel/32ULU/Sentinel-2_mosaic_2022_Q4_32ULU_0_0/split_images_100/output_nrg_q9_1.tif', '/home/teulade/images/images_sentinel/32ULU/Sentinel-2_mosaic_2022_Q4_32ULU_0_0/split_images_100/output_nrg_q9_2.tif', '/home/teulade/images/images_sentinel/32ULU/Sentinel-2_mosaic_2022_Q4_32ULU_0_0/split_images_100/output_nrg_q9_3.tif', '/home/teulade/images/images_sentinel/32ULU/Sentinel-2_mosaic_2022_Q4_32ULU_0_0/split_images_100/output_nrg_q9_4.tif', '/home/teulade/images/images_sentinel/32ULU/Sentinel-2_mosaic_2022_Q4_32ULU_0_0/split_images_100/output_nrg_q9_5.tif', '/home/teulade/images/images_sentinel/32ULU/Sentinel-2_mosaic_2022_Q4_32ULU_0_0/split_images_100/output_nrg_q9_6.tif', '/home/teulade/images/images_sentinel/32ULU/Sentinel-2_mosaic_2022_Q4_32ULU_0_0/split_images_100/output_nrg_q9_7.tif', '/home/teulade/images/images_sentinel/32ULU/Sentinel-2_mosaic_2022_Q4_32ULU_0_0/split_images_100/output_nrg_q9_8.tif', '/home/teulade/images/images_sentinel/32ULU/Sentinel-2_mosaic_2022_Q4_32ULU_0_0/split_images_100/output_nrg_q9_9.tif', '/home/teulade/images/images_sentinel/32ULU/Sentinel-2_mosaic_2022_Q4_32ULU_0_0/split_images_100/output_nrg_q9_10.tif', '/home/teulade/images/images_sentinel/32ULU/Sentinel-2_mosaic_2022_Q4_32ULU_0_0/split_images_100/output_nrg_q10_1.tif', '/home/teulade/images/images_sentinel/32ULU/Sentinel-2_mosaic_2022_Q4_32ULU_0_0/split_images_100/output_nrg_q10_2.tif', '/home/teulade/images/images_sentinel/32ULU/Sentinel-2_mosaic_2022_Q4_32ULU_0_0/split_images_100/output_nrg_q10_3.tif', '/home/teulade/images/images_sentinel/32ULU/Sentinel-2_mosaic_2022_Q4_32ULU_0_0/split_images_100/output_nrg_q10_4.tif', '/home/teulade/images/images_sentinel/32ULU/Sentinel-2_mosaic_2022_Q4_32ULU_0_0/split_images_100/output_nrg_q10_5.tif', '/home/teulade/images/images_sentinel/32ULU/Sentinel-2_mosaic_2022_Q4_32ULU_0_0/split_images_100/output_nrg_q10_6.tif', '/home/teulade/images/images_sentinel/32ULU/Sentinel-2_mosaic_2022_Q4_32ULU_0_0/split_images_100/output_nrg_q10_7.tif', '/home/teulade/images/images_sentinel/32ULU/Sentinel-2_mosaic_2022_Q4_32ULU_0_0/split_images_100/output_nrg_q10_8.tif', '/home/teulade/images/images_sentinel/32ULU/Sentinel-2_mosaic_2022_Q4_32ULU_0_0/split_images_100/output_nrg_q10_9.tif', '/home/teulade/images/images_sentinel/32ULU/Sentinel-2_mosaic_2022_Q4_32ULU_0_0/split_images_100/output_nrg_q10_10.tif']\n",
      "Successfully processed /home/teulade/images/images_sentinel/32ULU/Sentinel-2_mosaic_2022_Q4_32ULU_0_0/\n"
     ]
    }
   ],
   "source": [
    "sentinel_bands_paths = [os.path.join(base_dir, tile_id, f\"Sentinel-2_mosaic_2022_Q{quarter}_{tile_id}_0_0/\") for quarter in quarters_to_analyze for tile_id in tile_ids]\n",
    "\n",
    "# Preprocess tiles\n",
    "for sentinel_bands_path in sentinel_bands_paths:\n",
    "    preprocess_sentinel_imagery(sentinel_bands_path)"
   ]
  },
  {
   "cell_type": "markdown",
   "metadata": {},
   "source": [
    "## Step 2: Run SAM Segmentation"
   ]
  },
  {
   "cell_type": "code",
   "execution_count": 7,
   "metadata": {},
   "outputs": [
    {
     "name": "stderr",
     "output_type": "stream",
     "text": [
      "/home/teulade/.conda/envs/sat-proj-env/lib/python3.11/site-packages/segment_anything/build_sam.py:105: FutureWarning: You are using `torch.load` with `weights_only=False` (the current default value), which uses the default pickle module implicitly. It is possible to construct malicious pickle data which will execute arbitrary code during unpickling (See https://github.com/pytorch/pytorch/blob/main/SECURITY.md#untrusted-models for more details). In a future release, the default value for `weights_only` will be flipped to `True`. This limits the functions that could be executed during unpickling. Arbitrary objects will no longer be allowed to be loaded via this mode unless they are explicitly allowlisted by the user via `torch.serialization.add_safe_globals`. We recommend you start setting `weights_only=True` for any use case where you don't have full control of the loaded file. Please open an issue on GitHub for any issues related to this experimental feature.\n",
      "  state_dict = torch.load(f)\n"
     ]
    }
   ],
   "source": [
    "from segment_anything import sam_model_registry, SamAutomaticMaskGenerator\n",
    "\n",
    "sam_checkpoint = \"/home/teulade/satellite-sam-segmentation/models/sam_vit_h_4b8939.pth\"\n",
    "model_type = \"vit_h\"\n",
    "\n",
    "device = \"cuda\"\n",
    "\n",
    "sam = sam_model_registry[model_type](checkpoint=sam_checkpoint)\n",
    "\n",
    "mask_generator = SamAutomaticMaskGenerator(\n",
    "    model=sam,\n",
    "    points_per_side=10,\n",
    "    pred_iou_thresh=0.6,\n",
    "    stability_score_thresh=0.6,\n",
    "    crop_nms_thresh=0,\n",
    "    crop_overlap_ratio=1,\n",
    "    crop_n_layers=1,\n",
    "    min_mask_region_area=50,\n",
    ")"
   ]
  },
  {
   "cell_type": "code",
   "execution_count": 9,
   "metadata": {},
   "outputs": [
    {
     "name": "stdout",
     "output_type": "stream",
     "text": [
      "\n",
      "Processing tile 32ULU for Q1\n",
      "Selected quadrants: [(9, 4)]\n",
      "Processing Q1\n"
     ]
    },
    {
     "name": "stderr",
     "output_type": "stream",
     "text": [
      "Processing 32ULU Q1: 100%|██████████| 1/1 [02:18<00:00, 138.34s/quadrant]"
     ]
    },
    {
     "name": "stdout",
     "output_type": "stream",
     "text": [
      "Found 34 polygons for Q1\n"
     ]
    },
    {
     "name": "stderr",
     "output_type": "stream",
     "text": [
      "\n"
     ]
    }
   ],
   "source": [
    "# Process tiles\n",
    "sentinel_bands_paths = [os.path.join(base_dir, tile_id, f\"Sentinel-2_mosaic_2022_Q{quarter}_{tile_id}_0_0/\") for quarter in quarters_to_analyze for tile_id in tile_ids]\n",
    "\n",
    "for sentinel_path in sentinel_bands_paths:\n",
    "    segment_satellite_imagery(sentinel_path, mask_generator, n_samples=20, random_seed=42)"
   ]
  },
  {
   "cell_type": "markdown",
   "metadata": {},
   "source": [
    "## Step 3: Merge Quarterly Polygons"
   ]
  },
  {
   "cell_type": "code",
   "execution_count": 12,
   "metadata": {},
   "outputs": [
    {
     "name": "stdout",
     "output_type": "stream",
     "text": [
      "\n",
      "Processing tile 32ULU for quarters: [1, 2]\n",
      "After merging, number of segments: 790\n",
      "After removing segments smaller than 100 pixels, number of segments: 629\n"
     ]
    },
    {
     "name": "stderr",
     "output_type": "stream",
     "text": [
      "Processing Polygons: 100%|██████████| 629/629 [00:00<00:00, 3698.56it/s]\n"
     ]
    },
    {
     "name": "stdout",
     "output_type": "stream",
     "text": [
      "\n",
      "Statistics for tile 32ULU:\n",
      "- Polygons without significant intersection: 301\n",
      "- Polygons reduced to intersection (>25%): 164\n",
      "- Skipped polygons (already processed): 164\n",
      "- Remaining polygons: 451\n"
     ]
    }
   ],
   "source": [
    "# Merge tiles\n",
    "for tile_path in tile_paths:\n",
    "    merge_overlapping_segments(tile_path, quarters_to_analyze)"
   ]
  },
  {
   "cell_type": "code",
   "execution_count": null,
   "metadata": {},
   "outputs": [],
   "source": [
    "concat_polygons(tile_paths, os.path.basename(base_dir))"
   ]
  },
  {
   "cell_type": "markdown",
   "metadata": {},
   "source": [
    "## Results Visualization\n",
    "\n",
    "You can add cells here to visualize the results, e.g.:\n",
    "- Number of polygons per tile\n",
    "- Sample visualizations of segmented areas\n",
    "- Processing statistics"
   ]
  }
 ],
 "metadata": {
  "kernelspec": {
   "display_name": "Python 3",
   "language": "python",
   "name": "python3"
  },
  "language_info": {
   "codemirror_mode": {
    "name": "ipython",
    "version": 3
   },
   "file_extension": ".py",
   "mimetype": "text/x-python",
   "name": "python",
   "nbconvert_exporter": "python",
   "pygments_lexer": "ipython3",
   "version": "3.11.8"
  }
 },
 "nbformat": 4,
 "nbformat_minor": 2
}
