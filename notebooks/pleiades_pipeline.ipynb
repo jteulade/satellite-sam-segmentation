{
 "cells": [
  {
   "cell_type": "code",
   "execution_count": 5,
   "metadata": {},
   "outputs": [],
   "source": [
    "import os\n",
    "import sys\n",
    "sys.modules.pop('src.sentinel_preprocessing', None)\n",
    "sys.modules.pop('src.sam_satellite_processor', None)\n",
    "\n",
    "sys.path.append(\"..\")\n",
    "from src.sentinel_preprocessing import split_rgb_image_in_100\n",
    "from src.sam_satellite_processor import segment_satellite_imagery\n"
   ]
  },
  {
   "cell_type": "code",
   "execution_count": null,
   "metadata": {},
   "outputs": [],
   "source": []
  },
  {
   "cell_type": "code",
   "execution_count": 21,
   "metadata": {},
   "outputs": [
    {
     "name": "stdout",
     "output_type": "stream",
     "text": [
      "Découpage terminé. Les sous-images sont enregistrées sous les noms suivants :\n",
      "['/home/teulade/images/images_pleiades/20160609T104841_PLD_SEN_PMS_1816164101-001split_images_100/output_nrg_q1_1.tif', '/home/teulade/images/images_pleiades/20160609T104841_PLD_SEN_PMS_1816164101-001split_images_100/output_nrg_q1_2.tif', '/home/teulade/images/images_pleiades/20160609T104841_PLD_SEN_PMS_1816164101-001split_images_100/output_nrg_q1_3.tif', '/home/teulade/images/images_pleiades/20160609T104841_PLD_SEN_PMS_1816164101-001split_images_100/output_nrg_q1_4.tif', '/home/teulade/images/images_pleiades/20160609T104841_PLD_SEN_PMS_1816164101-001split_images_100/output_nrg_q1_5.tif', '/home/teulade/images/images_pleiades/20160609T104841_PLD_SEN_PMS_1816164101-001split_images_100/output_nrg_q1_6.tif', '/home/teulade/images/images_pleiades/20160609T104841_PLD_SEN_PMS_1816164101-001split_images_100/output_nrg_q1_7.tif', '/home/teulade/images/images_pleiades/20160609T104841_PLD_SEN_PMS_1816164101-001split_images_100/output_nrg_q1_8.tif', '/home/teulade/images/images_pleiades/20160609T104841_PLD_SEN_PMS_1816164101-001split_images_100/output_nrg_q1_9.tif', '/home/teulade/images/images_pleiades/20160609T104841_PLD_SEN_PMS_1816164101-001split_images_100/output_nrg_q1_10.tif', '/home/teulade/images/images_pleiades/20160609T104841_PLD_SEN_PMS_1816164101-001split_images_100/output_nrg_q2_1.tif', '/home/teulade/images/images_pleiades/20160609T104841_PLD_SEN_PMS_1816164101-001split_images_100/output_nrg_q2_2.tif', '/home/teulade/images/images_pleiades/20160609T104841_PLD_SEN_PMS_1816164101-001split_images_100/output_nrg_q2_3.tif', '/home/teulade/images/images_pleiades/20160609T104841_PLD_SEN_PMS_1816164101-001split_images_100/output_nrg_q2_4.tif', '/home/teulade/images/images_pleiades/20160609T104841_PLD_SEN_PMS_1816164101-001split_images_100/output_nrg_q2_5.tif', '/home/teulade/images/images_pleiades/20160609T104841_PLD_SEN_PMS_1816164101-001split_images_100/output_nrg_q2_6.tif', '/home/teulade/images/images_pleiades/20160609T104841_PLD_SEN_PMS_1816164101-001split_images_100/output_nrg_q2_7.tif', '/home/teulade/images/images_pleiades/20160609T104841_PLD_SEN_PMS_1816164101-001split_images_100/output_nrg_q2_8.tif', '/home/teulade/images/images_pleiades/20160609T104841_PLD_SEN_PMS_1816164101-001split_images_100/output_nrg_q2_9.tif', '/home/teulade/images/images_pleiades/20160609T104841_PLD_SEN_PMS_1816164101-001split_images_100/output_nrg_q2_10.tif', '/home/teulade/images/images_pleiades/20160609T104841_PLD_SEN_PMS_1816164101-001split_images_100/output_nrg_q3_1.tif', '/home/teulade/images/images_pleiades/20160609T104841_PLD_SEN_PMS_1816164101-001split_images_100/output_nrg_q3_2.tif', '/home/teulade/images/images_pleiades/20160609T104841_PLD_SEN_PMS_1816164101-001split_images_100/output_nrg_q3_3.tif', '/home/teulade/images/images_pleiades/20160609T104841_PLD_SEN_PMS_1816164101-001split_images_100/output_nrg_q3_4.tif', '/home/teulade/images/images_pleiades/20160609T104841_PLD_SEN_PMS_1816164101-001split_images_100/output_nrg_q3_5.tif', '/home/teulade/images/images_pleiades/20160609T104841_PLD_SEN_PMS_1816164101-001split_images_100/output_nrg_q3_6.tif', '/home/teulade/images/images_pleiades/20160609T104841_PLD_SEN_PMS_1816164101-001split_images_100/output_nrg_q3_7.tif', '/home/teulade/images/images_pleiades/20160609T104841_PLD_SEN_PMS_1816164101-001split_images_100/output_nrg_q3_8.tif', '/home/teulade/images/images_pleiades/20160609T104841_PLD_SEN_PMS_1816164101-001split_images_100/output_nrg_q3_9.tif', '/home/teulade/images/images_pleiades/20160609T104841_PLD_SEN_PMS_1816164101-001split_images_100/output_nrg_q3_10.tif', '/home/teulade/images/images_pleiades/20160609T104841_PLD_SEN_PMS_1816164101-001split_images_100/output_nrg_q4_1.tif', '/home/teulade/images/images_pleiades/20160609T104841_PLD_SEN_PMS_1816164101-001split_images_100/output_nrg_q4_2.tif', '/home/teulade/images/images_pleiades/20160609T104841_PLD_SEN_PMS_1816164101-001split_images_100/output_nrg_q4_3.tif', '/home/teulade/images/images_pleiades/20160609T104841_PLD_SEN_PMS_1816164101-001split_images_100/output_nrg_q4_4.tif', '/home/teulade/images/images_pleiades/20160609T104841_PLD_SEN_PMS_1816164101-001split_images_100/output_nrg_q4_5.tif', '/home/teulade/images/images_pleiades/20160609T104841_PLD_SEN_PMS_1816164101-001split_images_100/output_nrg_q4_6.tif', '/home/teulade/images/images_pleiades/20160609T104841_PLD_SEN_PMS_1816164101-001split_images_100/output_nrg_q4_7.tif', '/home/teulade/images/images_pleiades/20160609T104841_PLD_SEN_PMS_1816164101-001split_images_100/output_nrg_q4_8.tif', '/home/teulade/images/images_pleiades/20160609T104841_PLD_SEN_PMS_1816164101-001split_images_100/output_nrg_q4_9.tif', '/home/teulade/images/images_pleiades/20160609T104841_PLD_SEN_PMS_1816164101-001split_images_100/output_nrg_q4_10.tif', '/home/teulade/images/images_pleiades/20160609T104841_PLD_SEN_PMS_1816164101-001split_images_100/output_nrg_q5_1.tif', '/home/teulade/images/images_pleiades/20160609T104841_PLD_SEN_PMS_1816164101-001split_images_100/output_nrg_q5_2.tif', '/home/teulade/images/images_pleiades/20160609T104841_PLD_SEN_PMS_1816164101-001split_images_100/output_nrg_q5_3.tif', '/home/teulade/images/images_pleiades/20160609T104841_PLD_SEN_PMS_1816164101-001split_images_100/output_nrg_q5_4.tif', '/home/teulade/images/images_pleiades/20160609T104841_PLD_SEN_PMS_1816164101-001split_images_100/output_nrg_q5_5.tif', '/home/teulade/images/images_pleiades/20160609T104841_PLD_SEN_PMS_1816164101-001split_images_100/output_nrg_q5_6.tif', '/home/teulade/images/images_pleiades/20160609T104841_PLD_SEN_PMS_1816164101-001split_images_100/output_nrg_q5_7.tif', '/home/teulade/images/images_pleiades/20160609T104841_PLD_SEN_PMS_1816164101-001split_images_100/output_nrg_q5_8.tif', '/home/teulade/images/images_pleiades/20160609T104841_PLD_SEN_PMS_1816164101-001split_images_100/output_nrg_q5_9.tif', '/home/teulade/images/images_pleiades/20160609T104841_PLD_SEN_PMS_1816164101-001split_images_100/output_nrg_q5_10.tif', '/home/teulade/images/images_pleiades/20160609T104841_PLD_SEN_PMS_1816164101-001split_images_100/output_nrg_q6_1.tif', '/home/teulade/images/images_pleiades/20160609T104841_PLD_SEN_PMS_1816164101-001split_images_100/output_nrg_q6_2.tif', '/home/teulade/images/images_pleiades/20160609T104841_PLD_SEN_PMS_1816164101-001split_images_100/output_nrg_q6_3.tif', '/home/teulade/images/images_pleiades/20160609T104841_PLD_SEN_PMS_1816164101-001split_images_100/output_nrg_q6_4.tif', '/home/teulade/images/images_pleiades/20160609T104841_PLD_SEN_PMS_1816164101-001split_images_100/output_nrg_q6_5.tif', '/home/teulade/images/images_pleiades/20160609T104841_PLD_SEN_PMS_1816164101-001split_images_100/output_nrg_q6_6.tif', '/home/teulade/images/images_pleiades/20160609T104841_PLD_SEN_PMS_1816164101-001split_images_100/output_nrg_q6_7.tif', '/home/teulade/images/images_pleiades/20160609T104841_PLD_SEN_PMS_1816164101-001split_images_100/output_nrg_q6_8.tif', '/home/teulade/images/images_pleiades/20160609T104841_PLD_SEN_PMS_1816164101-001split_images_100/output_nrg_q6_9.tif', '/home/teulade/images/images_pleiades/20160609T104841_PLD_SEN_PMS_1816164101-001split_images_100/output_nrg_q6_10.tif', '/home/teulade/images/images_pleiades/20160609T104841_PLD_SEN_PMS_1816164101-001split_images_100/output_nrg_q7_1.tif', '/home/teulade/images/images_pleiades/20160609T104841_PLD_SEN_PMS_1816164101-001split_images_100/output_nrg_q7_2.tif', '/home/teulade/images/images_pleiades/20160609T104841_PLD_SEN_PMS_1816164101-001split_images_100/output_nrg_q7_3.tif', '/home/teulade/images/images_pleiades/20160609T104841_PLD_SEN_PMS_1816164101-001split_images_100/output_nrg_q7_4.tif', '/home/teulade/images/images_pleiades/20160609T104841_PLD_SEN_PMS_1816164101-001split_images_100/output_nrg_q7_5.tif', '/home/teulade/images/images_pleiades/20160609T104841_PLD_SEN_PMS_1816164101-001split_images_100/output_nrg_q7_6.tif', '/home/teulade/images/images_pleiades/20160609T104841_PLD_SEN_PMS_1816164101-001split_images_100/output_nrg_q7_7.tif', '/home/teulade/images/images_pleiades/20160609T104841_PLD_SEN_PMS_1816164101-001split_images_100/output_nrg_q7_8.tif', '/home/teulade/images/images_pleiades/20160609T104841_PLD_SEN_PMS_1816164101-001split_images_100/output_nrg_q7_9.tif', '/home/teulade/images/images_pleiades/20160609T104841_PLD_SEN_PMS_1816164101-001split_images_100/output_nrg_q7_10.tif', '/home/teulade/images/images_pleiades/20160609T104841_PLD_SEN_PMS_1816164101-001split_images_100/output_nrg_q8_1.tif', '/home/teulade/images/images_pleiades/20160609T104841_PLD_SEN_PMS_1816164101-001split_images_100/output_nrg_q8_2.tif', '/home/teulade/images/images_pleiades/20160609T104841_PLD_SEN_PMS_1816164101-001split_images_100/output_nrg_q8_3.tif', '/home/teulade/images/images_pleiades/20160609T104841_PLD_SEN_PMS_1816164101-001split_images_100/output_nrg_q8_4.tif', '/home/teulade/images/images_pleiades/20160609T104841_PLD_SEN_PMS_1816164101-001split_images_100/output_nrg_q8_5.tif', '/home/teulade/images/images_pleiades/20160609T104841_PLD_SEN_PMS_1816164101-001split_images_100/output_nrg_q8_6.tif', '/home/teulade/images/images_pleiades/20160609T104841_PLD_SEN_PMS_1816164101-001split_images_100/output_nrg_q8_7.tif', '/home/teulade/images/images_pleiades/20160609T104841_PLD_SEN_PMS_1816164101-001split_images_100/output_nrg_q8_8.tif', '/home/teulade/images/images_pleiades/20160609T104841_PLD_SEN_PMS_1816164101-001split_images_100/output_nrg_q8_9.tif', '/home/teulade/images/images_pleiades/20160609T104841_PLD_SEN_PMS_1816164101-001split_images_100/output_nrg_q8_10.tif', '/home/teulade/images/images_pleiades/20160609T104841_PLD_SEN_PMS_1816164101-001split_images_100/output_nrg_q9_1.tif', '/home/teulade/images/images_pleiades/20160609T104841_PLD_SEN_PMS_1816164101-001split_images_100/output_nrg_q9_2.tif', '/home/teulade/images/images_pleiades/20160609T104841_PLD_SEN_PMS_1816164101-001split_images_100/output_nrg_q9_3.tif', '/home/teulade/images/images_pleiades/20160609T104841_PLD_SEN_PMS_1816164101-001split_images_100/output_nrg_q9_4.tif', '/home/teulade/images/images_pleiades/20160609T104841_PLD_SEN_PMS_1816164101-001split_images_100/output_nrg_q9_5.tif', '/home/teulade/images/images_pleiades/20160609T104841_PLD_SEN_PMS_1816164101-001split_images_100/output_nrg_q9_6.tif', '/home/teulade/images/images_pleiades/20160609T104841_PLD_SEN_PMS_1816164101-001split_images_100/output_nrg_q9_7.tif', '/home/teulade/images/images_pleiades/20160609T104841_PLD_SEN_PMS_1816164101-001split_images_100/output_nrg_q9_8.tif', '/home/teulade/images/images_pleiades/20160609T104841_PLD_SEN_PMS_1816164101-001split_images_100/output_nrg_q9_9.tif', '/home/teulade/images/images_pleiades/20160609T104841_PLD_SEN_PMS_1816164101-001split_images_100/output_nrg_q9_10.tif', '/home/teulade/images/images_pleiades/20160609T104841_PLD_SEN_PMS_1816164101-001split_images_100/output_nrg_q10_1.tif', '/home/teulade/images/images_pleiades/20160609T104841_PLD_SEN_PMS_1816164101-001split_images_100/output_nrg_q10_2.tif', '/home/teulade/images/images_pleiades/20160609T104841_PLD_SEN_PMS_1816164101-001split_images_100/output_nrg_q10_3.tif', '/home/teulade/images/images_pleiades/20160609T104841_PLD_SEN_PMS_1816164101-001split_images_100/output_nrg_q10_4.tif', '/home/teulade/images/images_pleiades/20160609T104841_PLD_SEN_PMS_1816164101-001split_images_100/output_nrg_q10_5.tif', '/home/teulade/images/images_pleiades/20160609T104841_PLD_SEN_PMS_1816164101-001split_images_100/output_nrg_q10_6.tif', '/home/teulade/images/images_pleiades/20160609T104841_PLD_SEN_PMS_1816164101-001split_images_100/output_nrg_q10_7.tif', '/home/teulade/images/images_pleiades/20160609T104841_PLD_SEN_PMS_1816164101-001split_images_100/output_nrg_q10_8.tif', '/home/teulade/images/images_pleiades/20160609T104841_PLD_SEN_PMS_1816164101-001split_images_100/output_nrg_q10_9.tif', '/home/teulade/images/images_pleiades/20160609T104841_PLD_SEN_PMS_1816164101-001split_images_100/output_nrg_q10_10.tif']\n"
     ]
    }
   ],
   "source": [
    "split_rgb_image_in_100(sentinel_path=\"/home/teulade/images/images_pleiades/20160609T104841_PLD_SEN_PMS_1816164101-001/\", output_rgb_path=\"/home/teulade/images/images_pleiades/20160609T104841_PLD_SEN_PMS_1816164101-001/IMG_PHR1A_PMS_201606091048415_SEN_1816164101-001_R1C1.JP2\")\n",
    "# split_rgb_image_in_100(sentinel_path=\"/home/teulade/images/images_sentinel/20160609T104841_PLD_SEN_PMS_1816164101-001\",)"
   ]
  },
  {
   "cell_type": "code",
   "execution_count": 2,
   "metadata": {},
   "outputs": [
    {
     "name": "stderr",
     "output_type": "stream",
     "text": [
      "/.conda/envs/teulade-sat_proj_env/lib/python3.11/site-packages/segment_anything/build_sam.py:105: FutureWarning: You are using `torch.load` with `weights_only=False` (the current default value), which uses the default pickle module implicitly. It is possible to construct malicious pickle data which will execute arbitrary code during unpickling (See https://github.com/pytorch/pytorch/blob/main/SECURITY.md#untrusted-models for more details). In a future release, the default value for `weights_only` will be flipped to `True`. This limits the functions that could be executed during unpickling. Arbitrary objects will no longer be allowed to be loaded via this mode unless they are explicitly allowlisted by the user via `torch.serialization.add_safe_globals`. We recommend you start setting `weights_only=True` for any use case where you don't have full control of the loaded file. Please open an issue on GitHub for any issues related to this experimental feature.\n",
      "  state_dict = torch.load(f)\n"
     ]
    }
   ],
   "source": [
    "from segment_anything import sam_model_registry, SamAutomaticMaskGenerator\n",
    "\n",
    "sam_checkpoint = \"/home/teulade/satellite-sam-segmentation/models/sam_vit_h_4b8939.pth\"\n",
    "model_type = \"vit_h\"\n",
    "\n",
    "device = \"cuda\"\n",
    "\n",
    "sam = sam_model_registry[model_type](checkpoint=sam_checkpoint)\n",
    "\n",
    "mask_generator = SamAutomaticMaskGenerator(\n",
    "    model=sam,\n",
    "    points_per_side=100,\n",
    "    pred_iou_thresh=0.6,\n",
    "    stability_score_thresh=0.6,\n",
    "    crop_nms_thresh=0,\n",
    "    crop_overlap_ratio=1,\n",
    "    crop_n_layers=1,\n",
    "    min_mask_region_area=50,\n",
    ")"
   ]
  },
  {
   "cell_type": "code",
   "execution_count": 6,
   "metadata": {},
   "outputs": [
    {
     "name": "stdout",
     "output_type": "stream",
     "text": [
      "Processing all 100 quadrants\n",
      "Processing /home/teulade/images/images_pleiades/20160609T104841_PLD_SEN_PMS_1816164101-001\n"
     ]
    },
    {
     "name": "stderr",
     "output_type": "stream",
     "text": [
      "Processing /home/teulade/images/images_pleiades/20160609T104841_PLD_SEN_PMS_1816164101-001:   1%|          | 1/100 [00:00<00:58,  1.69quadrant/s]"
     ]
    },
    {
     "name": "stdout",
     "output_type": "stream",
     "text": [
      "Error processing /home/teulade/images/images_pleiades/20160609T104841_PLD_SEN_PMS_1816164101-001/split_images_100/output_nrg_q1_1.tif: Invalid projection: : (Internal Proj Error: proj_create: unrecognized format / unknown name)\n"
     ]
    },
    {
     "name": "stderr",
     "output_type": "stream",
     "text": [
      "Processing /home/teulade/images/images_pleiades/20160609T104841_PLD_SEN_PMS_1816164101-001:   2%|▏         | 2/100 [00:01<01:05,  1.50quadrant/s]"
     ]
    },
    {
     "name": "stdout",
     "output_type": "stream",
     "text": [
      "Error processing /home/teulade/images/images_pleiades/20160609T104841_PLD_SEN_PMS_1816164101-001/split_images_100/output_nrg_q1_2.tif: Invalid projection: : (Internal Proj Error: proj_create: unrecognized format / unknown name)\n"
     ]
    },
    {
     "name": "stderr",
     "output_type": "stream",
     "text": [
      "Processing /home/teulade/images/images_pleiades/20160609T104841_PLD_SEN_PMS_1816164101-001:   3%|▎         | 3/100 [00:02<01:11,  1.36quadrant/s]"
     ]
    },
    {
     "name": "stdout",
     "output_type": "stream",
     "text": [
      "Error processing /home/teulade/images/images_pleiades/20160609T104841_PLD_SEN_PMS_1816164101-001/split_images_100/output_nrg_q1_3.tif: Invalid projection: : (Internal Proj Error: proj_create: unrecognized format / unknown name)\n"
     ]
    },
    {
     "name": "stderr",
     "output_type": "stream",
     "text": [
      "Processing /home/teulade/images/images_pleiades/20160609T104841_PLD_SEN_PMS_1816164101-001:   4%|▍         | 4/100 [00:02<01:09,  1.37quadrant/s]"
     ]
    },
    {
     "name": "stdout",
     "output_type": "stream",
     "text": [
      "Error processing /home/teulade/images/images_pleiades/20160609T104841_PLD_SEN_PMS_1816164101-001/split_images_100/output_nrg_q1_4.tif: Invalid projection: : (Internal Proj Error: proj_create: unrecognized format / unknown name)\n"
     ]
    },
    {
     "name": "stderr",
     "output_type": "stream",
     "text": [
      "Processing /home/teulade/images/images_pleiades/20160609T104841_PLD_SEN_PMS_1816164101-001:   5%|▌         | 5/100 [00:03<01:09,  1.36quadrant/s]"
     ]
    },
    {
     "name": "stdout",
     "output_type": "stream",
     "text": [
      "Error processing /home/teulade/images/images_pleiades/20160609T104841_PLD_SEN_PMS_1816164101-001/split_images_100/output_nrg_q1_5.tif: Invalid projection: : (Internal Proj Error: proj_create: unrecognized format / unknown name)\n"
     ]
    },
    {
     "name": "stderr",
     "output_type": "stream",
     "text": [
      "Processing /home/teulade/images/images_pleiades/20160609T104841_PLD_SEN_PMS_1816164101-001:   6%|▌         | 6/100 [00:04<01:13,  1.29quadrant/s]"
     ]
    },
    {
     "name": "stdout",
     "output_type": "stream",
     "text": [
      "Error processing /home/teulade/images/images_pleiades/20160609T104841_PLD_SEN_PMS_1816164101-001/split_images_100/output_nrg_q1_6.tif: Invalid projection: : (Internal Proj Error: proj_create: unrecognized format / unknown name)\n"
     ]
    },
    {
     "name": "stderr",
     "output_type": "stream",
     "text": [
      "Processing /home/teulade/images/images_pleiades/20160609T104841_PLD_SEN_PMS_1816164101-001:   6%|▌         | 6/100 [00:05<01:23,  1.13quadrant/s]\n"
     ]
    },
    {
     "ename": "KeyboardInterrupt",
     "evalue": "",
     "output_type": "error",
     "traceback": [
      "\u001b[0;31m---------------------------------------------------------------------------\u001b[0m",
      "\u001b[0;31mKeyboardInterrupt\u001b[0m                         Traceback (most recent call last)",
      "Cell \u001b[0;32mIn[6], line 1\u001b[0m\n\u001b[0;32m----> 1\u001b[0m \u001b[43msegment_satellite_imagery\u001b[49m\u001b[43m(\u001b[49m\u001b[38;5;124;43m\"\u001b[39;49m\u001b[38;5;124;43m/home/teulade/images/images_pleiades/20160609T104841_PLD_SEN_PMS_1816164101-001\u001b[39;49m\u001b[38;5;124;43m\"\u001b[39;49m\u001b[43m,\u001b[49m\u001b[43m \u001b[49m\u001b[43mmask_generator\u001b[49m\u001b[43m)\u001b[49m\n",
      "File \u001b[0;32m~/satellite-sam-segmentation/notebooks/../src/sam_satellite_processor.py:131\u001b[0m, in \u001b[0;36msegment_satellite_imagery\u001b[0;34m(sentinel_path, mask_generator, n_samples, random_seed)\u001b[0m\n\u001b[1;32m    129\u001b[0m \u001b[38;5;28;01mif\u001b[39;00m os\u001b[38;5;241m.\u001b[39mpath\u001b[38;5;241m.\u001b[39mexists(path):\n\u001b[1;32m    130\u001b[0m     \u001b[38;5;28;01mtry\u001b[39;00m:\n\u001b[0;32m--> 131\u001b[0m         georeferenced_polygons\u001b[38;5;241m.\u001b[39mextend(\u001b[43mget_georeferenced_polygons_from_image\u001b[49m\u001b[43m(\u001b[49m\u001b[43mpath\u001b[49m\u001b[43m,\u001b[49m\u001b[43m \u001b[49m\u001b[43mmask_generator\u001b[49m\u001b[43m)\u001b[49m)\n\u001b[1;32m    132\u001b[0m     \u001b[38;5;28;01mexcept\u001b[39;00m \u001b[38;5;167;01mException\u001b[39;00m \u001b[38;5;28;01mas\u001b[39;00m e:\n\u001b[1;32m    133\u001b[0m         \u001b[38;5;28mprint\u001b[39m(\u001b[38;5;124mf\u001b[39m\u001b[38;5;124m\"\u001b[39m\u001b[38;5;124mError processing \u001b[39m\u001b[38;5;132;01m{\u001b[39;00mpath\u001b[38;5;132;01m}\u001b[39;00m\u001b[38;5;124m: \u001b[39m\u001b[38;5;132;01m{\u001b[39;00m\u001b[38;5;28mstr\u001b[39m(e)\u001b[38;5;132;01m}\u001b[39;00m\u001b[38;5;124m\"\u001b[39m)\n",
      "File \u001b[0;32m~/satellite-sam-segmentation/notebooks/../src/sam_satellite_processor.py:30\u001b[0m, in \u001b[0;36mget_georeferenced_polygons_from_image\u001b[0;34m(path, mask_generator)\u001b[0m\n\u001b[1;32m     28\u001b[0m \u001b[38;5;66;03m# Charger l'image satellite GeoTIFF\u001b[39;00m\n\u001b[1;32m     29\u001b[0m \u001b[38;5;28;01mwith\u001b[39;00m rasterio\u001b[38;5;241m.\u001b[39mopen(path) \u001b[38;5;28;01mas\u001b[39;00m src:\n\u001b[0;32m---> 30\u001b[0m     image \u001b[38;5;241m=\u001b[39m \u001b[43msrc\u001b[49m\u001b[38;5;241;43m.\u001b[39;49m\u001b[43mread\u001b[49m\u001b[43m(\u001b[49m\u001b[43m)\u001b[49m  \u001b[38;5;66;03m# Lire toutes les bandes de l'image\u001b[39;00m\n\u001b[1;32m     31\u001b[0m     crs \u001b[38;5;241m=\u001b[39m src\u001b[38;5;241m.\u001b[39mcrs  \u001b[38;5;66;03m# Système de coordonnées de l'image\u001b[39;00m\n\u001b[1;32m     32\u001b[0m     transform \u001b[38;5;241m=\u001b[39m src\u001b[38;5;241m.\u001b[39mtransform  \u001b[38;5;66;03m# Transform matrix for pixel to CRS\u001b[39;00m\n",
      "\u001b[0;31mKeyboardInterrupt\u001b[0m: "
     ]
    }
   ],
   "source": [
    "segment_satellite_imagery(\"/home/teulade/images/images_pleiades/20160609T104841_PLD_SEN_PMS_1816164101-001\", mask_generator)"
   ]
  },
  {
   "cell_type": "code",
   "execution_count": null,
   "metadata": {},
   "outputs": [],
   "source": []
  }
 ],
 "metadata": {
  "kernelspec": {
   "display_name": "teulade-sat_proj_env",
   "language": "python",
   "name": "python3"
  },
  "language_info": {
   "codemirror_mode": {
    "name": "ipython",
    "version": 3
   },
   "file_extension": ".py",
   "mimetype": "text/x-python",
   "name": "python",
   "nbconvert_exporter": "python",
   "pygments_lexer": "ipython3",
   "version": "3.11.8"
  }
 },
 "nbformat": 4,
 "nbformat_minor": 2
}
