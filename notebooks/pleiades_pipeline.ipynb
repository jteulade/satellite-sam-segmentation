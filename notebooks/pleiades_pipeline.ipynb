{
 "cells": [
  {
   "cell_type": "code",
   "execution_count": 1,
   "metadata": {},
   "outputs": [],
   "source": [
    "import os\n",
    "import sys\n",
    "sys.modules.pop('src.sentinel_preprocessing', None)\n",
    "sys.modules.pop('src.sam_satellite_processor', None)\n",
    "\n",
    "sys.path.append(\"..\")\n",
    "from src.sentinel_preprocessing import preprocess_imagery\n",
    "from src.sentinel_preprocessing import build_color_from_JP2\n",
    "from src.sentinel_preprocessing import split_image_in_tiles\n",
    "from src.sam_satellite_processor import segment_satellite_imagery\n",
    "from src.sam_satellite_processor import segment_single_image"
   ]
  },
  {
   "cell_type": "code",
   "execution_count": null,
   "metadata": {},
   "outputs": [],
   "source": [
    "pleiade_folder = \"/home/teulade/images/images_pleiades/20160609T104841_PLD_SEN_PMS_1816164101-001\"\n",
    "pleiade_jp2 = os.path.join(pleiade_folder,\"IMG_PHR1A_PMS_201606091048415_SEN_1816164101-001_R1C1.JP2\")\n",
    "# Cell with preprocessing\n",
    "color_type = 'rgb'  # or 'rgb'\n",
    "#grid_size = 33  # or your preferred size\n",
    "\n",
    "# Choose one of these approaches:\n",
    "# preprocess_imagery(pleiade_jp2, color_type=color_type)\n",
    "# or\n",
    "# composite_image = build_color_from_JP2(pleiade_jp2, color_type=color_type)\n",
    "composite_image = f\"{pleiade_folder}/rgb/pleiades_composite.tif\"\n",
    "split_image_in_tiles(input_file=composite_image, grid_size=33)"
   ]
  },
  {
   "cell_type": "code",
   "execution_count": 2,
   "metadata": {},
   "outputs": [
    {
     "name": "stderr",
     "output_type": "stream",
     "text": [
      "/.conda/envs/teulade-sat_proj_env/lib/python3.11/site-packages/segment_anything/build_sam.py:105: FutureWarning: You are using `torch.load` with `weights_only=False` (the current default value), which uses the default pickle module implicitly. It is possible to construct malicious pickle data which will execute arbitrary code during unpickling (See https://github.com/pytorch/pytorch/blob/main/SECURITY.md#untrusted-models for more details). In a future release, the default value for `weights_only` will be flipped to `True`. This limits the functions that could be executed during unpickling. Arbitrary objects will no longer be allowed to be loaded via this mode unless they are explicitly allowlisted by the user via `torch.serialization.add_safe_globals`. We recommend you start setting `weights_only=True` for any use case where you don't have full control of the loaded file. Please open an issue on GitHub for any issues related to this experimental feature.\n",
      "  state_dict = torch.load(f)\n"
     ]
    }
   ],
   "source": [
    "from segment_anything import sam_model_registry, SamAutomaticMaskGenerator\n",
    "\n",
    "sam_checkpoint = \"/home/teulade/satellite-sam-segmentation/models/sam_vit_h_4b8939.pth\"\n",
    "model_type = \"vit_h\"\n",
    "\n",
    "device = \"cuda\"\n",
    "\n",
    "sam = sam_model_registry[model_type](checkpoint=sam_checkpoint)\n",
    "sam.to(device=device)\n",
    "\n",
    "mask_generator = SamAutomaticMaskGenerator(\n",
    "    model=sam,\n",
    "    points_per_side=32,\n",
    "    pred_iou_thresh=0.6,\n",
    "    stability_score_thresh=0.6,\n",
    "    crop_nms_thresh=0,\n",
    "    crop_overlap_ratio=1,\n",
    "    crop_n_layers=1,\n",
    "    min_mask_region_area=50,\n",
    ")"
   ]
  },
  {
   "cell_type": "code",
   "execution_count": null,
   "metadata": {},
   "outputs": [],
   "source": [
    "# segment_satellite_imagery(pleiade_folder, mask_generator, color_type=\"rgb\",n_samples=10)\n",
    "\n",
    "segment_single_image(\"/home/teulade/images/images_pleiades/20160609T104841_PLD_SEN_PMS_1816164101-001/rgb/tiles_33x33/tile_9_9.tif\", \"/home/teulade/images/tmp_output\", mask_generator)"
   ]
  },
  {
   "cell_type": "code",
   "execution_count": null,
   "metadata": {},
   "outputs": [],
   "source": [
    "import geopandas as gpd\n",
    "import rasterio\n",
    "from shapely.geometry import Polygon\n",
    "\n",
    "# Read the saved parquet file with the segments\n",
    "segments_path = f\"{pleiade_folder}/shapefiles_10000tiles_32points/polygons.parquet\"\n",
    "gdf = gpd.read_parquet(segments_path)\n",
    "\n",
    "# Get the centroid of our data to determine the UTM zone\n",
    "center_lon = gdf.geometry.centroid.x.mean()\n",
    "center_lat = gdf.geometry.centroid.y.mean()\n",
    "\n",
    "# Calculate UTM zone number\n",
    "utm_zone = int((center_lon + 180) / 6) + 1\n",
    "epsg_code = 32600 + utm_zone  # Northern hemisphere\n",
    "if center_lat < 0:\n",
    "    epsg_code = 32700 + utm_zone  # Southern hemisphere\n",
    "\n",
    "print(f\"Using UTM Zone {utm_zone} (EPSG:{epsg_code}) for area calculations\")\n",
    "\n",
    "\n",
    "# Project to appropriate UTM zone for accurate area calculation\n",
    "gdf_projected = gdf.to_crs(epsg=epsg_code)\n",
    "total_segments_area = gdf_projected.geometry.area.sum()\n",
    "\n",
    "\n",
    "# Get the tile bounds from the original image\n",
    "tile_path = f\"{pleiade_folder}/output_nrg.tif\"\n",
    "with rasterio.open(tile_path) as src:\n",
    "    bounds = src.bounds\n",
    "    tile_geom = Polygon([\n",
    "        (bounds.left, bounds.bottom),\n",
    "        (bounds.left, bounds.top),\n",
    "        (bounds.right, bounds.top),\n",
    "        (bounds.right, bounds.bottom)\n",
    "    ])\n",
    "    tile_crs = src.crs\n",
    "\n",
    "# Calculate total tile area\n",
    "tile_gdf = gpd.GeoDataFrame({'geometry': [tile_geom]}, crs=tile_crs)\n",
    "tile_gdf_projected = tile_gdf.to_crs(epsg=epsg_code)\n",
    "total_tile_area = tile_gdf_projected.geometry.area.iloc[0]\n",
    "\n",
    "# Calculate and print statistics\n",
    "coverage_percentage = (total_segments_area / total_tile_area) * 100\n",
    "\n",
    "print(f\"Number of segments: {len(gdf)}\")\n",
    "print(f\"Total segment area: {total_segments_area:.2f} m²\")\n",
    "print(f\"Total tile area: {total_tile_area:.2f} m²\")\n",
    "print(f\"Coverage percentage: {coverage_percentage:.2f}%\")"
   ]
  }
 ],
 "metadata": {
  "kernelspec": {
   "display_name": "teulade-sat_proj_env",
   "language": "python",
   "name": "python3"
  },
  "language_info": {
   "codemirror_mode": {
    "name": "ipython",
    "version": 3
   },
   "file_extension": ".py",
   "mimetype": "text/x-python",
   "name": "python",
   "nbconvert_exporter": "python",
   "pygments_lexer": "ipython3",
   "version": "3.11.8"
  }
 },
 "nbformat": 4,
 "nbformat_minor": 2
}
